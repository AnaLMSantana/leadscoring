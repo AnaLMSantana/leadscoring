{
 "cells": [
  {
   "cell_type": "code",
   "execution_count": 1,
   "metadata": {},
   "outputs": [],
   "source": [
    "import pyaudio\n",
    "import wave\n",
    "import speech_recognition as sr\n",
    "import azure.cognitiveservices.speech as speechsdk\n",
    "from transformers import pipeline\n"
   ]
  },
  {
   "cell_type": "code",
   "execution_count": 2,
   "metadata": {},
   "outputs": [],
   "source": [
    "import pyaudio\n",
    "import wave\n",
    "import azure.cognitiveservices.speech as speechsdk\n",
    "from transformers import AutoTokenizer, AutoModelForSequenceClassification\n",
    "from scipy.special import softmax\n",
    "\n",
    "def azure_transcribe(subscription_key, region, record_seconds=5):\n",
    "    # Audio Recording\n",
    "    CHUNK = 1024\n",
    "    FORMAT = pyaudio.paInt16\n",
    "    CHANNELS = 1\n",
    "    RATE = 44100\n",
    "\n",
    "    p = pyaudio.PyAudio()\n",
    "    stream = p.open(format=FORMAT, channels=CHANNELS, rate=RATE, input=True, frames_per_buffer=CHUNK)\n",
    "    print(\"Start Recording\")\n",
    "\n",
    "    frames = []\n",
    "    for i in range(0, int(RATE / CHUNK * record_seconds)):\n",
    "        data = stream.read(CHUNK)\n",
    "        frames.append(data)\n",
    "\n",
    "    print(\"Recording Done\")\n",
    "    stream.stop_stream()\n",
    "    stream.close()\n",
    "    p.terminate()\n",
    "\n",
    "    wf = wave.open('recording.wav', 'wb')\n",
    "    wf.setnchannels(CHANNELS)\n",
    "    wf.setsampwidth(p.get_sample_size(FORMAT))\n",
    "    wf.setframerate(RATE)\n",
    "    wf.writeframes(b''.join(frames))\n",
    "    wf.close()\n",
    "\n",
    "    # Azure Transcription\n",
    "    audio_path = 'recording.wav'\n",
    "\n",
    "    # Set up the Azure Speech SDK\n",
    "    speech_config = speechsdk.SpeechConfig(subscription=subscription_key, region=region)\n",
    "    audio_input = speechsdk.AudioConfig(filename=audio_path)\n",
    "\n",
    "    # Create a speech recognizer\n",
    "    speech_recognizer = speechsdk.SpeechRecognizer(speech_config=speech_config, audio_config=audio_input)\n",
    "\n",
    "    # Transcribe\n",
    "    result = speech_recognizer.recognize_once()\n",
    "\n",
    "    # Check the result\n",
    "    if result.reason == speechsdk.ResultReason.RecognizedSpeech:\n",
    "        return result.text\n",
    "    elif result.reason == speechsdk.ResultReason.NoMatch:\n",
    "        return \"No speech could be recognized\"\n",
    "    elif result.reason == speechsdk.ResultReason.Canceled:\n",
    "        cancellation_details = result.cancellation_details\n",
    "        return \"Speech Recognition canceled: {}. Error details: {}\".format(cancellation_details.reason, cancellation_details.error_details)\n",
    "\n",
    "def analyze_sentiment_scores(subscription_key, region, record_seconds=5):\n",
    "    # Step 1: Record and transcribe the audio\n",
    "    transcription = azure_transcribe(subscription_key, region, record_seconds)\n",
    "    \n",
    "    # Step 2: Perform sentiment analysis on the transcription\n",
    "    MODEL = \"cardiffnlp/twitter-roberta-base-sentiment\"\n",
    "    tokenizer = AutoTokenizer.from_pretrained(MODEL)\n",
    "    model = AutoModelForSequenceClassification.from_pretrained(MODEL)\n",
    "    \n",
    "    encoded_text = tokenizer(transcription, return_tensors='pt')\n",
    "    output = model(**encoded_text)\n",
    "    scores = output[0][0].detach().numpy()\n",
    "    scores = softmax(scores)\n",
    "    \n",
    "    scores_dict = {\n",
    "        'roberta_neg': scores[0],\n",
    "        'roberta_neu': scores[1],\n",
    "        'roberta_pos': scores[2]\n",
    "    }\n",
    "    \n",
    "    if scores_dict['roberta_neg'] > 0.8:\n",
    "        sentiment_label = \"Very bad\"\n",
    "    elif scores_dict['roberta_neg'] > scores_dict['roberta_pos']:\n",
    "        sentiment_label = \"Bad\"\n",
    "    elif scores_dict['roberta_neu'] > scores_dict['roberta_pos'] and scores_dict['roberta_neu'] > scores_dict['roberta_neg']:\n",
    "        sentiment_label = \"Neutral\"\n",
    "    elif scores_dict['roberta_pos'] > 0.8:\n",
    "        sentiment_label = \"Very good\"\n",
    "    else:\n",
    "        sentiment_label = \"Good\"\n",
    "    \n",
    "    result_string = f\"Transcription of the recorded text: {transcription}\\nSentiment: {sentiment_label}\"\n",
    "    \n",
    "    return result_string\n",
    "\n",
    "\n"
   ]
  },
  {
   "cell_type": "code",
   "execution_count": 3,
   "metadata": {
    "scrolled": true
   },
   "outputs": [
    {
     "name": "stdout",
     "output_type": "stream",
     "text": [
      "Start Recording\n",
      "Recording Done\n",
      "Transcription of the recorded text: That's very nice.\n",
      "Sentiment: Very good\n"
     ]
    }
   ],
   "source": [
    "result = analyze_sentiment_scores('efb37ac3f0224c9eb9e58b588686a83f','eastus')\n",
    "print(result)"
   ]
  },
  {
   "cell_type": "code",
   "execution_count": 36,
   "metadata": {},
   "outputs": [],
   "source": [
    "#import pickle to save my funtion \n",
    "import pickle"
   ]
  },
  {
   "cell_type": "code",
   "execution_count": 37,
   "metadata": {},
   "outputs": [],
   "source": [
    "# create a pickle with the whole funtion\n",
    "with open('analyze_sentiment_scores.pkl', 'wb') as f:\n",
    "    pickle.dump(analyze_sentiment_scores,f)"
   ]
  }
 ],
 "metadata": {
  "kernelspec": {
   "display_name": "Python 3 (ipykernel)",
   "language": "python",
   "name": "python3"
  },
  "language_info": {
   "codemirror_mode": {
    "name": "ipython",
    "version": 3
   },
   "file_extension": ".py",
   "mimetype": "text/x-python",
   "name": "python",
   "nbconvert_exporter": "python",
   "pygments_lexer": "ipython3",
   "version": "3.10.9"
  }
 },
 "nbformat": 4,
 "nbformat_minor": 2
}
