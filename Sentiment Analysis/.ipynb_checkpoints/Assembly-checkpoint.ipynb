{
 "cells": [
  {
   "cell_type": "code",
   "execution_count": 1,
   "metadata": {},
   "outputs": [
    {
     "ename": "ImportError",
     "evalue": "cannot import name 'ClientProtocol' from 'websockets.client' (C:\\Users\\Ana\\anaconda3\\lib\\site-packages\\websockets\\client.py)",
     "output_type": "error",
     "traceback": [
      "\u001b[1;31m---------------------------------------------------------------------------\u001b[0m",
      "\u001b[1;31mImportError\u001b[0m                               Traceback (most recent call last)",
      "Cell \u001b[1;32mIn[1], line 1\u001b[0m\n\u001b[1;32m----> 1\u001b[0m \u001b[38;5;28;01mimport\u001b[39;00m \u001b[38;5;21;01massemblyai\u001b[39;00m \u001b[38;5;28;01mas\u001b[39;00m \u001b[38;5;21;01maai\u001b[39;00m\n",
      "File \u001b[1;32m~\\anaconda3\\lib\\site-packages\\assemblyai\\__init__.py:4\u001b[0m\n\u001b[0;32m      2\u001b[0m \u001b[38;5;28;01mfrom\u001b[39;00m \u001b[38;5;21;01m.\u001b[39;00m\u001b[38;5;21;01mclient\u001b[39;00m \u001b[38;5;28;01mimport\u001b[39;00m Client\n\u001b[0;32m      3\u001b[0m \u001b[38;5;28;01mfrom\u001b[39;00m \u001b[38;5;21;01m.\u001b[39;00m\u001b[38;5;21;01mlemur\u001b[39;00m \u001b[38;5;28;01mimport\u001b[39;00m Lemur\n\u001b[1;32m----> 4\u001b[0m \u001b[38;5;28;01mfrom\u001b[39;00m \u001b[38;5;21;01m.\u001b[39;00m\u001b[38;5;21;01mtranscriber\u001b[39;00m \u001b[38;5;28;01mimport\u001b[39;00m RealtimeTranscriber, Transcriber, Transcript, TranscriptGroup\n\u001b[0;32m      5\u001b[0m \u001b[38;5;28;01mfrom\u001b[39;00m \u001b[38;5;21;01m.\u001b[39;00m\u001b[38;5;21;01mtypes\u001b[39;00m \u001b[38;5;28;01mimport\u001b[39;00m (\n\u001b[0;32m      6\u001b[0m     AssemblyAIError,\n\u001b[0;32m      7\u001b[0m     AutohighlightResponse,\n\u001b[1;32m   (...)\u001b[0m\n\u001b[0;32m     56\u001b[0m     WordSearchMatch,\n\u001b[0;32m     57\u001b[0m )\n\u001b[0;32m     59\u001b[0m settings \u001b[38;5;241m=\u001b[39m Settings()\n",
      "File \u001b[1;32m~\\anaconda3\\lib\\site-packages\\assemblyai\\transcriber.py:28\u001b[0m\n\u001b[0;32m     26\u001b[0m \u001b[38;5;28;01mimport\u001b[39;00m \u001b[38;5;21;01mwebsockets\u001b[39;00m\u001b[38;5;21;01m.\u001b[39;00m\u001b[38;5;21;01mexceptions\u001b[39;00m\n\u001b[0;32m     27\u001b[0m \u001b[38;5;28;01mfrom\u001b[39;00m \u001b[38;5;21;01mtyping_extensions\u001b[39;00m \u001b[38;5;28;01mimport\u001b[39;00m Self\n\u001b[1;32m---> 28\u001b[0m \u001b[38;5;28;01mfrom\u001b[39;00m \u001b[38;5;21;01mwebsockets\u001b[39;00m\u001b[38;5;21;01m.\u001b[39;00m\u001b[38;5;21;01msync\u001b[39;00m\u001b[38;5;21;01m.\u001b[39;00m\u001b[38;5;21;01mclient\u001b[39;00m \u001b[38;5;28;01mimport\u001b[39;00m connect \u001b[38;5;28;01mas\u001b[39;00m websocket_connect\n\u001b[0;32m     30\u001b[0m \u001b[38;5;28;01mfrom\u001b[39;00m \u001b[38;5;21;01m.\u001b[39;00m \u001b[38;5;28;01mimport\u001b[39;00m api\n\u001b[0;32m     31\u001b[0m \u001b[38;5;28;01mfrom\u001b[39;00m \u001b[38;5;21;01m.\u001b[39;00m \u001b[38;5;28;01mimport\u001b[39;00m client \u001b[38;5;28;01mas\u001b[39;00m _client\n",
      "File \u001b[1;32m~\\anaconda3\\lib\\site-packages\\websockets\\sync\\client.py:8\u001b[0m\n\u001b[0;32m      5\u001b[0m \u001b[38;5;28;01mimport\u001b[39;00m \u001b[38;5;21;01mthreading\u001b[39;00m\n\u001b[0;32m      6\u001b[0m \u001b[38;5;28;01mfrom\u001b[39;00m \u001b[38;5;21;01mtyping\u001b[39;00m \u001b[38;5;28;01mimport\u001b[39;00m Any, Optional, Sequence, Type\n\u001b[1;32m----> 8\u001b[0m \u001b[38;5;28;01mfrom\u001b[39;00m \u001b[38;5;21;01m.\u001b[39;00m\u001b[38;5;21;01m.\u001b[39;00m\u001b[38;5;21;01mclient\u001b[39;00m \u001b[38;5;28;01mimport\u001b[39;00m ClientProtocol\n\u001b[0;32m      9\u001b[0m \u001b[38;5;28;01mfrom\u001b[39;00m \u001b[38;5;21;01m.\u001b[39;00m\u001b[38;5;21;01m.\u001b[39;00m\u001b[38;5;21;01mdatastructures\u001b[39;00m \u001b[38;5;28;01mimport\u001b[39;00m HeadersLike\n\u001b[0;32m     10\u001b[0m \u001b[38;5;28;01mfrom\u001b[39;00m \u001b[38;5;21;01m.\u001b[39;00m\u001b[38;5;21;01m.\u001b[39;00m\u001b[38;5;21;01mextensions\u001b[39;00m\u001b[38;5;21;01m.\u001b[39;00m\u001b[38;5;21;01mbase\u001b[39;00m \u001b[38;5;28;01mimport\u001b[39;00m ClientExtensionFactory\n",
      "\u001b[1;31mImportError\u001b[0m: cannot import name 'ClientProtocol' from 'websockets.client' (C:\\Users\\Ana\\anaconda3\\lib\\site-packages\\websockets\\client.py)"
     ]
    }
   ],
   "source": [
    "import assemblyai as aai\n"
   ]
  },
  {
   "cell_type": "code",
   "execution_count": 3,
   "metadata": {},
   "outputs": [
    {
     "ename": "NameError",
     "evalue": "name 'aai' is not defined",
     "output_type": "error",
     "traceback": [
      "\u001b[1;31m---------------------------------------------------------------------------\u001b[0m",
      "\u001b[1;31mNameError\u001b[0m                                 Traceback (most recent call last)",
      "Cell \u001b[1;32mIn[3], line 2\u001b[0m\n\u001b[0;32m      1\u001b[0m \u001b[38;5;66;03m# replace with your API token\u001b[39;00m\n\u001b[1;32m----> 2\u001b[0m \u001b[43maai\u001b[49m\u001b[38;5;241m.\u001b[39msettings\u001b[38;5;241m.\u001b[39mapi_key \u001b[38;5;241m=\u001b[39m \u001b[38;5;124m\"\u001b[39m\u001b[38;5;124mabc073c5ce63403abc1bd3fe58b02111\u001b[39m\u001b[38;5;124m\"\u001b[39m\n\u001b[0;32m      4\u001b[0m \u001b[38;5;66;03m# Create a transcriber object.\u001b[39;00m\n\u001b[0;32m      5\u001b[0m transcriber \u001b[38;5;241m=\u001b[39m aai\u001b[38;5;241m.\u001b[39mTranscriber()\n",
      "\u001b[1;31mNameError\u001b[0m: name 'aai' is not defined"
     ]
    }
   ],
   "source": [
    "\n",
    "# replace with your API token\n",
    "aai.settings.api_key = \"abc073c5ce63403abc1bd3fe58b02111\"\n",
    "\n",
    "# Create a transcriber object.\n",
    "transcriber = aai.Transcriber()\n",
    "\n",
    "# URL or local path of the file to transcribe\n",
    "audio_file_path = r\"C:\\Users\\Ana\\OneDrive\\Documents\\Ironhack\\Week 9\\Final Project\\Sentiment Analysis\\ultimo (online-audio-converter.com).wav\"\n",
    "\n",
    "config = aai.TranscriptionConfig(sentiment_analysis=True)\n",
    "\n",
    "# Get the transcript\n",
    "initial_transcript = transcriber.transcribe(audio_file_path, config=config)\n",
    "\n",
    "for sentiment_result in initial_transcript.sentiment_analysis:\n",
    "    print(sentiment_result.text)\n",
    "    print(sentiment_result.sentiment)  # POSITIVE, NEUTRAL, or NEGATIVE\n",
    "    print(sentiment_result.confidence)\n",
    "    # print(f\"Timestamp: {sentiment_result.timestamp.start} - {sentiment_result.timestamp.end}\")"
   ]
  }
 ],
 "metadata": {
  "kernelspec": {
   "display_name": "Python 3 (ipykernel)",
   "language": "python",
   "name": "python3"
  },
  "language_info": {
   "codemirror_mode": {
    "name": "ipython",
    "version": 3
   },
   "file_extension": ".py",
   "mimetype": "text/x-python",
   "name": "python",
   "nbconvert_exporter": "python",
   "pygments_lexer": "ipython3",
   "version": "3.10.9"
  }
 },
 "nbformat": 4,
 "nbformat_minor": 2
}
